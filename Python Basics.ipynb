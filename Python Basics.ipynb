{
 "cells": [
  {
   "cell_type": "code",
   "execution_count": 1,
   "id": "5a685d24",
   "metadata": {},
   "outputs": [
    {
     "name": "stdout",
     "output_type": "stream",
     "text": [
      "This is my first python program\n"
     ]
    }
   ],
   "source": [
    "print(\"This is my first python program\")"
   ]
  },
  {
   "cell_type": "code",
   "execution_count": 2,
   "id": "7648017f",
   "metadata": {},
   "outputs": [
    {
     "data": {
      "text/plain": [
       "'this is \\nused for \\nmultiple line comment'"
      ]
     },
     "execution_count": 2,
     "metadata": {},
     "output_type": "execute_result"
    }
   ],
   "source": [
    "#this is used for single line comment\n",
    "\"\"\"this is \n",
    "used for \n",
    "multiple line comment\"\"\""
   ]
  },
  {
   "cell_type": "code",
   "execution_count": 23,
   "id": "28ea4b5a",
   "metadata": {},
   "outputs": [
    {
     "name": "stdout",
     "output_type": "stream",
     "text": [
      "<class 'int'>\n",
      "<class 'float'>\n",
      "<class 'str'>\n"
     ]
    }
   ],
   "source": [
    "# Data Types\n",
    "\n",
    "# 1) int    - Integers (1,2,3,4,5,...)\n",
    "# 2) Float  - Decimal numbers(1.2,3.6,4.5,....)\n",
    "# 3) String - Alphabets (a,b,c..) dclared in \"\"\n",
    "\n",
    "a = 10\n",
    "print(type(a))\n",
    "b = 5.5\n",
    "print(type(b))\n",
    "c = \"Atharva\"\n",
    "print(type(c))"
   ]
  },
  {
   "cell_type": "code",
   "execution_count": 34,
   "id": "a9c07363",
   "metadata": {},
   "outputs": [
    {
     "name": "stdout",
     "output_type": "stream",
     "text": [
      "Enter a integer 123\n",
      "Entered number is  123\n"
     ]
    }
   ],
   "source": [
    "# User Input\n",
    "# Only input takes values as String and int(input()) takes values as integer\n",
    "\n",
    "a = input(\"Enter a integer \")\n",
    "print(\"Entered number is \",a)"
   ]
  },
  {
   "cell_type": "code",
   "execution_count": 33,
   "id": "c6ee620c",
   "metadata": {},
   "outputs": [
    {
     "name": "stdout",
     "output_type": "stream",
     "text": [
      "<class 'str'>\n"
     ]
    }
   ],
   "source": [
    "print(type(a))"
   ]
  },
  {
   "cell_type": "code",
   "execution_count": 38,
   "id": "3213cbd0",
   "metadata": {},
   "outputs": [
    {
     "name": "stdout",
     "output_type": "stream",
     "text": [
      "ENter 1st Number : \n",
      "10\n",
      "Enter 2nd Number : \n",
      "20\n",
      "Sum is : 30\n"
     ]
    }
   ],
   "source": [
    "print(\"ENter 1st Number : \")\n",
    "a = int(input())\n",
    "print(\"Enter 2nd Number : \")\n",
    "b = int(input())\n",
    "sum = a + b\n",
    "print(\"Sum is :\",sum)"
   ]
  },
  {
   "cell_type": "markdown",
   "id": "a5193696",
   "metadata": {},
   "source": [
    "## String Slicing"
   ]
  },
  {
   "cell_type": "code",
   "execution_count": 40,
   "id": "016ce267",
   "metadata": {},
   "outputs": [
    {
     "name": "stdout",
     "output_type": "stream",
     "text": [
      "r\n",
      "Atharv\n",
      "Ahra\n",
      "ha\n"
     ]
    }
   ],
   "source": [
    "str = \"Atharva\"\n",
    "\n",
    "print(str[4])\n",
    "print(str[0:6])        # upper limit is excluded\n",
    "print(str[0:7:2])      # Here last index is skip index value 2 means skip by 1\n",
    "print(str[-5:-3])      # Negative slicing counts the index from backside of the string and it starts with 1,2,3,.."
   ]
  },
  {
   "cell_type": "markdown",
   "id": "955e99bc",
   "metadata": {},
   "source": [
    "## String Functions"
   ]
  },
  {
   "cell_type": "code",
   "execution_count": 55,
   "id": "bcc15bc6",
   "metadata": {},
   "outputs": [
    {
     "name": "stdout",
     "output_type": "stream",
     "text": [
      "28\n",
      "atharva is in indira college\n",
      "ATHARVA IS IN INDIRA COLLEGE\n",
      "Atharva is in indira college\n",
      "3\n",
      "True\n",
      "False\n",
      "False\n",
      "False\n",
      "False\n",
      "Atharva studies in Indira college\n"
     ]
    }
   ],
   "source": [
    "mystr = \"Atharva is in Indira college\"\n",
    "\n",
    "print(mystr.__len__())                #Returns the length of the string\n",
    "print(mystr.lower())                  #Returns all characters in lower case\n",
    "print(mystr.upper())                  #Returns all characters in upper case\n",
    "print(mystr.capitalize())             #Returns the charachter at 1st place into upper case\n",
    "print(mystr.count(\"i\"))               #Returns how many times a specific charachter has occured\n",
    "print(mystr.endswith(\"e\"))            #Returns true if the string is ending with the specific character\n",
    "print(mystr.isalnum())                #Returns true if the string is alphnumerical\n",
    "print(mystr.isalpha())                #Returns true if strings contains only alphabets spaces are also counted as characters so the string mystr is not alphabetical\n",
    "print(mystr.isdecimal())              #Returns true if all characters in the string are decimal(0-9)\n",
    "print(mystr.isdigit())                #Returns True if all characters in the string are digits\n",
    "print(mystr.replace('is','studies'))  #Replaces the 1st word in the bracket with second"
   ]
  },
  {
   "cell_type": "markdown",
   "id": "7b634820",
   "metadata": {},
   "source": [
    "## Data Structures"
   ]
  },
  {
   "cell_type": "code",
   "execution_count": 56,
   "id": "74808333",
   "metadata": {},
   "outputs": [],
   "source": [
    "# In time complexity order of n  always ignores constant number\n",
    "# like if we use 2 for loops\n",
    "# for():      #Its order of n is O(n)\n",
    "\n",
    "# for():      #Similarly For this for O(n)\n",
    "\n",
    "# Then total is o(n)+o(n)=2[O(n)] Then here 2 will be ingnore \n",
    "#And for nested for loop the time complexicity will be O(n^2)\n",
    "\n",
    "# 1) list 2)Tuple 3) Dictionary 4) Set\n",
    "\n",
    "\n",
    "\n",
    "# Big O notation: It is used to measure how running time or space requirements for your program grow as input size grows\n",
    "# As the input size grows the run time grows"
   ]
  },
  {
   "cell_type": "markdown",
   "id": "019b83e6",
   "metadata": {},
   "source": [
    "## 1) Lists"
   ]
  },
  {
   "cell_type": "code",
   "execution_count": 57,
   "id": "5ca53ef1",
   "metadata": {},
   "outputs": [
    {
     "data": {
      "text/plain": [
       "['Atharva', 500.5, 1000]"
      ]
     },
     "execution_count": 57,
     "metadata": {},
     "output_type": "execute_result"
    }
   ],
   "source": [
    "#Lists are used to store multiple items in a single variable\n",
    "# Python list are containers used to store a list of values of any data type.\n",
    "# Lists can cotain various types of data types lie int,float, str etc...\n",
    "# VIMP : They are ordered/indexing and they are mutable/changeable and it also allows Duplicate values\n",
    "\n",
    "list1 = ['Atharva',500.50,1000]\n",
    "list1"
   ]
  },
  {
   "cell_type": "code",
   "execution_count": 67,
   "id": "0ffe83f0",
   "metadata": {},
   "outputs": [
    {
     "name": "stdout",
     "output_type": "stream",
     "text": [
      "[1, 2, 6, 5, 3, 20, 65, 80, 45, 36]\n",
      "[1, 2, 3, 5, 6, 20, 36, 45, 65, 80]\n",
      "[80, 65, 45, 36, 20, 6, 5, 3, 2, 1]\n",
      "1\n",
      "80\n",
      "[1, 2, 3, 4, 5, 6, 7]\n",
      "[1, 2, 3, 4, 5, 6, 7, 8]\n",
      "[1, 2, 3, 4, 5, 6, 7]\n",
      "[1, 2, 3, 4, 5, 6]\n",
      "True\n"
     ]
    }
   ],
   "source": [
    "#List Operations\n",
    "\n",
    "l1 = [1,2,6,5,3,20,65,80,45,36]\n",
    "print(l1)\n",
    "\n",
    "l1.sort()                    #Returns the list variables in ascending order(only when all list variables are integer)\n",
    "print(l1)\n",
    "l1.reverse()                 #Returns the reverse of list\n",
    "print(l1)\n",
    "print(min(l1))               #Returns the lowest value in the list\n",
    "print(max(l1))               #Returns the highest value ini the list\n",
    "\n",
    "list1 = [1,2,3,4,5,6]\n",
    "list1.append(7)              #Adds the number in the last \n",
    "print(list1)\n",
    "list1.insert(8,8)            #It will insert the number to the following index(index,number)\n",
    "print(list1)\n",
    "list1.remove(8)              #Removes the certain elements\n",
    "print(list1)\n",
    "list1.pop(6)                 #Pops the number present in the index\n",
    "print(list1)\n",
    "list1.count(4)\n",
    "\n",
    "l2 = [3,4,7,8,606,70]\n",
    "print(7 in l2)  \n",
    "# Here the output is TRUE means it is searching for value 7 in l2 list\n",
    "\n"
   ]
  },
  {
   "cell_type": "markdown",
   "id": "38f6363a",
   "metadata": {},
   "source": [
    "## 2) Tuples"
   ]
  },
  {
   "cell_type": "code",
   "execution_count": 78,
   "id": "afdb770a",
   "metadata": {},
   "outputs": [
    {
     "data": {
      "text/plain": [
       "(2,)"
      ]
     },
     "execution_count": 78,
     "metadata": {},
     "output_type": "execute_result"
    }
   ],
   "source": [
    "# Tuple: ordered,allow duplicate value,It is not changeble/immmutable \n",
    "# It is denoted by ()\n",
    "# Mutable means(can change ) and Immutable means(cannot change )\n",
    "# Tuple once defined can’t be changed i.e. its elements or values can’t be altered or manipulated.\n",
    "\n",
    "t1=(2,4,6,8)\n",
    "t1\n",
    "t2 =(2) \n",
    "t2\n",
    "t3 = (2,)       # To create the tuple of 1 element it is necesary to put comma after one element otherwise it does not consider as tupple\n",
    "t3\n"
   ]
  },
  {
   "cell_type": "markdown",
   "id": "e2c638e7",
   "metadata": {},
   "source": [
    "## 3) Dictionary"
   ]
  },
  {
   "cell_type": "code",
   "execution_count": 81,
   "id": "a710cac6",
   "metadata": {},
   "outputs": [
    {
     "name": "stdout",
     "output_type": "stream",
     "text": [
      "{'a': 5, 'b': 10}\n",
      "{'B': 'maggie', 'L': 'roti', 'D': 'Chicken'}\n",
      "maggie\n",
      "{'Jack': 'Dog', 'Kitu': 'Kitten'}\n",
      "{'Jack': 'Dog'}\n",
      "{'Jack': 'Dog', 'Bob': 'JermanShefard'}\n",
      "dict_keys(['Jack', 'Bob'])\n",
      "dict_values(['Dog', 'JermanShefard'])\n"
     ]
    }
   ],
   "source": [
    "# Dictionaries :- They are ordered, changeable and does  not allow duplicates and denoted by {}\n",
    "# Dictionaries are made on Key - Value Pairs\n",
    "d1 = {\"a\":5,\"b\":10}\n",
    "print(d1)\n",
    "\n",
    "#Dictionary in dictionary example\n",
    "d3 = {\"Shubham\":{\"B\":\"maggie\", \"L\":\"roti\", \"D\":\"Chicken\"}}\n",
    "print(d3[\"Shubham\"])\n",
    "print(d3[\"Shubham\"]['B'])\n",
    "\n",
    "d2 = {\"Jack\":\"Dog\",\"Kitu\":\"Kitten\"}\n",
    "print(d2)\n",
    "\n",
    "#To delete item from the lis or dictionary\n",
    "del d2[\"Kitu\"]\n",
    "print(d2)\n",
    "\n",
    "#TO add the item in the dictionary\n",
    "d2.update({\"Bob\":\"JermanShefard\"})\n",
    "print(d2)\n",
    "\n",
    "\n",
    "print(d2.keys())\n",
    "print(d2.values())"
   ]
  },
  {
   "cell_type": "markdown",
   "id": "4d394f02",
   "metadata": {},
   "source": [
    "## 4) Sets"
   ]
  },
  {
   "cell_type": "code",
   "execution_count": 82,
   "id": "3b2e4c1b",
   "metadata": {},
   "outputs": [
    {
     "name": "stdout",
     "output_type": "stream",
     "text": [
      "<class 'set'>\n"
     ]
    }
   ],
   "source": [
    "# A set is a data structure, having unordered, unique, and unindexed elements.”\n",
    "s = set()\n",
    "print(type(s))"
   ]
  },
  {
   "cell_type": "code",
   "execution_count": 83,
   "id": "dde9b4e9",
   "metadata": {},
   "outputs": [
    {
     "name": "stdout",
     "output_type": "stream",
     "text": [
      "{8, 2, 4, 6}\n",
      "{1, 2, 4, 6, 8}\n",
      "{1, 2, 4, 6, 8}\n",
      "5\n",
      "1\n",
      "8\n",
      "{1, 4, 6, 8}\n"
     ]
    }
   ],
   "source": [
    "s1 = set([2,4,6,8])\n",
    "print(s1)\n",
    "\n",
    "s1.add(1)\n",
    "print(s1)\n",
    "\n",
    "s1.add(2)\n",
    "print(s1)\n",
    "\n",
    "# Hence in Sets....repetation of the elements are not allowed\n",
    "\n",
    "print(len(s1))\n",
    "print(min(s1))\n",
    "print(max(s1))\n",
    "s1.remove(2)\n",
    "print(s1)"
   ]
  },
  {
   "cell_type": "markdown",
   "id": "2e36688c",
   "metadata": {},
   "source": [
    "## Conditions"
   ]
  },
  {
   "cell_type": "code",
   "execution_count": 1,
   "id": "4a14ba67",
   "metadata": {},
   "outputs": [
    {
     "name": "stdout",
     "output_type": "stream",
     "text": [
      "Enter a Number : 20\n",
      "Enter another Number : 20\n",
      "Both are equal\n"
     ]
    }
   ],
   "source": [
    "a = int(input(\"Enter a Number : \"))\n",
    "b = int(input(\"Enter another Number : \"))\n",
    "\n",
    "if a < b:\n",
    "    print(\"b is greater\")\n",
    "elif a > b:\n",
    "    print(\"a is greater\")\n",
    "else:\n",
    "    print(\"Both are equal\")"
   ]
  },
  {
   "cell_type": "markdown",
   "id": "e981bf93",
   "metadata": {},
   "source": [
    "## Loops"
   ]
  },
  {
   "cell_type": "code",
   "execution_count": 3,
   "id": "bdd0d25d",
   "metadata": {},
   "outputs": [
    {
     "name": "stdout",
     "output_type": "stream",
     "text": [
      "1\n",
      "2\n",
      "3\n",
      "4\n",
      "5\n",
      "6\n",
      "7\n",
      "8\n",
      "9\n",
      "If Aryabhat didn't existed\n"
     ]
    }
   ],
   "source": [
    "# 1) While \n",
    "\n",
    "a = 1\n",
    "b = 10\n",
    "\n",
    "while a < b :\n",
    "    print(a)\n",
    "    a += 1\n",
    "else : \n",
    "    print(\"If Aryabhat didn't existed\")"
   ]
  },
  {
   "cell_type": "code",
   "execution_count": 7,
   "id": "9e4f44ff",
   "metadata": {},
   "outputs": [
    {
     "name": "stdout",
     "output_type": "stream",
     "text": [
      "10\n",
      "20\n",
      "30\n",
      "40\n",
      "50\n",
      "60\n",
      "This is the 3rd value\n",
      "This is the 3rd value\n",
      "This is the 3rd value\n",
      "Hello\n"
     ]
    }
   ],
   "source": [
    "# 1) For loop\n",
    "\n",
    "list = [10,20,30,40,50,60]\n",
    "for i in list :\n",
    "    print(i)\n",
    "    \n",
    "for i in range(0,3):\n",
    "    if i <= 2:\n",
    "        print(\"This is the 3rd value\")\n",
    "print(\"Hello\")"
   ]
  },
  {
   "cell_type": "code",
   "execution_count": 8,
   "id": "d2eede70",
   "metadata": {},
   "outputs": [
    {
     "name": "stdout",
     "output_type": "stream",
     "text": [
      "Enter a\n",
      "5\n",
      "Enter b\n",
      "3\n",
      "a is greater than b\n"
     ]
    }
   ],
   "source": [
    "# Writing if else in one statement\n",
    "a = int(input(\"Enter a\\n\"))\n",
    "b = int(input(\"Enter b\\n\"))\n",
    "\n",
    "print(\"a is greater than b\") if a>b else print(\"b is greater than a\")"
   ]
  },
  {
   "cell_type": "code",
   "execution_count": 9,
   "id": "ac8ae94a",
   "metadata": {},
   "outputs": [],
   "source": [
    "s = \"atharva\"\n",
    "ss = \"\"\n",
    "\n",
    "for i in range(len(s)):\n",
    "    if s[i] == \"a\" :\n",
    "        continue\n",
    "    else :\n",
    "        ss = ss + s[i]"
   ]
  },
  {
   "cell_type": "code",
   "execution_count": 10,
   "id": "20b6054e",
   "metadata": {},
   "outputs": [
    {
     "data": {
      "text/plain": [
       "'thrv'"
      ]
     },
     "execution_count": 10,
     "metadata": {},
     "output_type": "execute_result"
    }
   ],
   "source": [
    "ss"
   ]
  },
  {
   "cell_type": "code",
   "execution_count": 19,
   "id": "6d336698",
   "metadata": {},
   "outputs": [
    {
     "name": "stdout",
     "output_type": "stream",
     "text": [
      "\r\n",
      "\r\n",
      "* \r\n",
      "* * \r\n",
      "* * * \r\n",
      "* * * * \r\n",
      "* * * * * \r\n"
     ]
    }
   ],
   "source": [
    "for i in range(0 ,7):\n",
    "    for j in range(0 ,i-1):\n",
    "        print(\"* \" , end = \"\")\n",
    "    print(\"\\r\")"
   ]
  },
  {
   "cell_type": "code",
   "execution_count": 46,
   "id": "7c148fe2",
   "metadata": {},
   "outputs": [
    {
     "name": "stdout",
     "output_type": "stream",
     "text": [
      " *  *  *  *  * \r\n",
      " *  *  *  * \r\n",
      " *  *  * \r\n",
      " *  * \r\n",
      " * \r\n",
      "\r\n"
     ]
    }
   ],
   "source": [
    "for i in range(6,0,-1):\n",
    "    for j in range(0,i-1):\n",
    "        print(\" *\",end=\" \")\n",
    "    print(\"\\r\")"
   ]
  },
  {
   "cell_type": "code",
   "execution_count": 54,
   "id": "122482ce",
   "metadata": {},
   "outputs": [
    {
     "name": "stdout",
     "output_type": "stream",
     "text": [
      " * * * * * *\r\n",
      " * * * * *\r\n",
      " * * * *\r\n",
      " * * *\r\n",
      " * *\r\n",
      " *\r\n"
     ]
    }
   ],
   "source": [
    "for i in range(0,6):\n",
    "    for j in range(,0,-1):\n",
    "        print(\" *\",end=\"\")\n",
    "    print(\"\\r\")"
   ]
  },
  {
   "cell_type": "code",
   "execution_count": 42,
   "id": "9d5cabb4",
   "metadata": {},
   "outputs": [
    {
     "name": "stdout",
     "output_type": "stream",
     "text": [
      "*\r\n",
      "**\r\n",
      "***\r\n",
      "****\r\n",
      "*****\r\n",
      "******\r\n"
     ]
    }
   ],
   "source": [
    "for i in range(0,6):\n",
    "    for j in range(0,i+1):\n",
    "        print(\"*\",end=\"\")\n",
    "    print(\"\\r\")"
   ]
  },
  {
   "cell_type": "code",
   "execution_count": 5,
   "id": "164a39d4",
   "metadata": {},
   "outputs": [
    {
     "name": "stdout",
     "output_type": "stream",
     "text": [
      "7\n",
      "*************\n",
      " ***********\n",
      "  *********\n",
      "   *******\n",
      "    *****\n",
      "     ***\n",
      "      *\n"
     ]
    }
   ],
   "source": [
    "n = int(input())\n",
    "\n",
    "for i in range(n,0,-1):\n",
    "    for j in range(n-i):\n",
    "        print(' ', end='')\n",
    "    for j in range(2*i-1):\n",
    "        print('*',end='')\n",
    "    print()"
   ]
  },
  {
   "cell_type": "code",
   "execution_count": 6,
   "id": "d4320885",
   "metadata": {},
   "outputs": [
    {
     "name": "stdout",
     "output_type": "stream",
     "text": [
      "7\n",
      "            * * * * * * * * \n",
      "             * * * * * * * \n",
      "              * * * * * * \n",
      "               * * * * * \n",
      "                * * * * \n",
      "                 * * * \n",
      "                  * * \n",
      "                   * \n"
     ]
    }
   ],
   "source": [
    "num = int(input())\n",
    "m = 2 * num - 2\n",
    "for i in range(num ,-1, -1):\n",
    "    for j in range(m,0,-1):\n",
    "        print(end=\" \")\n",
    "    m = m + 1\n",
    "    for j in range(0, i + 1):\n",
    "        print(\"*\",end=\" \")\n",
    "    print()"
   ]
  },
  {
   "cell_type": "code",
   "execution_count": 7,
   "id": "6b177d95",
   "metadata": {},
   "outputs": [
    {
     "name": "stdout",
     "output_type": "stream",
     "text": [
      "        * \n",
      "       * * \n",
      "      * * * \n",
      "     * * * * \n",
      "    * * * * * \n",
      "   * * * * * * \n",
      "  * * * * * * * \n",
      " * * * * * * * * \n",
      "* * * * * * * * * \n"
     ]
    }
   ],
   "source": [
    "n = 9\n",
    "i = 0\n",
    "while i < n:\n",
    "    print(\" \"*(n-i-1) + '* '*(i+1))\n",
    "    i += 1"
   ]
  },
  {
   "cell_type": "code",
   "execution_count": null,
   "id": "717b0d6a",
   "metadata": {},
   "outputs": [],
   "source": []
  }
 ],
 "metadata": {
  "kernelspec": {
   "display_name": "Python 3 (ipykernel)",
   "language": "python",
   "name": "python3"
  },
  "language_info": {
   "codemirror_mode": {
    "name": "ipython",
    "version": 3
   },
   "file_extension": ".py",
   "mimetype": "text/x-python",
   "name": "python",
   "nbconvert_exporter": "python",
   "pygments_lexer": "ipython3",
   "version": "3.9.12"
  }
 },
 "nbformat": 4,
 "nbformat_minor": 5
}
